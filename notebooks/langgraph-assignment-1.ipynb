{
 "cells": [
  {
   "cell_type": "code",
   "execution_count": 1,
   "id": "89521d71",
   "metadata": {},
   "outputs": [],
   "source": [
    "from utils import add_project_src_to_path\n",
    "\n",
    "# Path adjustment helper\n",
    "add_project_src_to_path()"
   ]
  },
  {
   "cell_type": "code",
   "execution_count": null,
   "id": "c0584cf9",
   "metadata": {},
   "outputs": [],
   "source": [
    "from core import settings\n",
    "\n",
    "if settings.GROQ_API_KEY is None:\n",
    "    print(\"GROQ_API_KEY not set, skipping LlamaGuard\")\n",
    "else:\n",
    "    print(\"GROQ_API_KEY set successfully\")"
   ]
  },
  {
   "cell_type": "code",
   "execution_count": null,
   "id": "0d13f2c0",
   "metadata": {},
   "outputs": [
    {
     "name": "stderr",
     "output_type": "stream",
     "text": [
      "/tmp/ipykernel_24142/1736411882.py:18: LangChainDeprecationWarning: Please see the migration guide at: https://python.langchain.com/docs/versions/migrating_memory/\n",
      "  memory = ConversationBufferMemory(memory_key=\"chat_history\", return_messages=True)\n"
     ]
    },
    {
     "name": "stdout",
     "output_type": "stream",
     "text": [
      "🚀 Running Job Application Pre-Screening...\n",
      "\n",
      "✅ Eligibility Check Complete:\n",
      "**Eligible**\n",
      "\n",
      "You meet the minimum experience requirement of 3 years, and have listed Python as one of your skills.\n",
      "\n",
      "🧠 Final Messages:\n",
      "HUMAN: Name: Alex, Email: alex@example.com, Experience: 4 years, Skills: Python, Django\n",
      "AI: **Eligible**\n",
      "\n",
      "You meet the minimum experience requirement of 3 years, and have listed Python as one of your skills.\n"
     ]
    },
    {
     "data": {
      "text/plain": [
       "'---\\nconfig:\\n  flowchart:\\n    curve: linear\\n---\\ngraph TD;\\n\\t__start__([<p>__start__</p>]):::first\\n\\tevaluate_candidate(evaluate_candidate)\\n\\tfinalize(finalize)\\n\\t__end__([<p>__end__</p>]):::last\\n\\t__start__ --> evaluate_candidate;\\n\\tevaluate_candidate --> finalize;\\n\\tfinalize --> __end__;\\n\\tclassDef default fill:#f2f0ff,line-height:1.2\\n\\tclassDef first fill-opacity:0\\n\\tclassDef last fill:#bfb6fc\\n'"
      ]
     },
     "metadata": {},
     "output_type": "display_data"
    }
   ],
   "source": [
    "from IPython.display import display\n",
    "from typing import Literal\n",
    "from langchain.memory import ConversationBufferMemory\n",
    "from langchain_core.messages import AIMessage, HumanMessage, SystemMessage\n",
    "from langchain_core.runnables import RunnableConfig\n",
    "from langgraph.graph import StateGraph, END, MessagesState\n",
    "from schema.models import GroqModelName\n",
    "from core import get_model, settings\n",
    "\n",
    "# --- State ---\n",
    "class PreScreenState(MessagesState, total=False):\n",
    "    result: str\n",
    "\n",
    "\n",
    "# --- Load model (e.g., llama3-70b-8192 from Groq or OpenAI) ---\n",
    "model = get_model(GroqModelName.LLAMA_33_70B)\n",
    "memory = ConversationBufferMemory(memory_key=\"chat_history\", return_messages=True)\n",
    "\n",
    "# --- System Prompt / Role ---\n",
    "system_prompt = SystemMessage(\n",
    "    content=\"\"\"\n",
    "You are a job application pre-screener bot. Your job is to review candidate input and determine whether they are eligible for the next round.\n",
    "Requirements:\n",
    "- At least 3 years of experience\n",
    "- Must know Python\n",
    "\n",
    "You must respond only with a decision and a short explanation.\n",
    "\"\"\"\n",
    ")\n",
    "\n",
    "# --- Initial candidate data (simulate input) ---\n",
    "user_input = HumanMessage(\n",
    "    content=\"Name: Alex, Email: alex@example.com, Experience: 4 years, Skills: Python, Django\"\n",
    ")\n",
    "\n",
    "\n",
    "# --- Step: Evaluate eligibility using model ---\n",
    "async def evaluate_candidate(state: PreScreenState, config: RunnableConfig) -> PreScreenState:\n",
    "    messages = state[\"messages\"]\n",
    "    if not any(isinstance(m, SystemMessage) for m in messages):\n",
    "        messages = [system_prompt] + messages\n",
    "    result = await model.ainvoke(messages, config)\n",
    "    return {\"messages\": [result], \"result\": result.content}\n",
    "\n",
    "\n",
    "# --- Step: Log result and end ---\n",
    "async def finalize(state: PreScreenState, config: RunnableConfig) -> PreScreenState:\n",
    "    print(\"✅ Eligibility Check Complete:\")\n",
    "    print(state[\"result\"])\n",
    "    return state\n",
    "\n",
    "\n",
    "# --- Graph Setup ---\n",
    "graph = StateGraph(PreScreenState)\n",
    "graph.add_node(\"evaluate_candidate\", evaluate_candidate)\n",
    "graph.add_node(\"finalize\", finalize)\n",
    "\n",
    "graph.set_entry_point(\"evaluate_candidate\")\n",
    "graph.add_edge(\"evaluate_candidate\", \"finalize\")\n",
    "graph.add_edge(\"finalize\", END)\n",
    "\n",
    "# --- Compile graph ---\n",
    "app_graph = graph.compile()\n",
    "\n",
    "# --- Run the workflow ---\n",
    "print(\"🚀 Running Job Application Pre-Screening...\\n\")\n",
    "result = await app_graph.ainvoke({\"messages\": [user_input]})\n",
    "\n",
    "# --- Output result ---\n",
    "print(\"\\n🧠 Final Messages:\")\n",
    "for msg in result[\"messages\"]:\n",
    "    print(f\"{msg.type.upper()}: {msg.content}\")\n",
    "\n",
    "\n",
    "\n",
    "display(app_graph.get_graph().draw_mermaid())"
   ]
  }
 ],
 "metadata": {
  "kernelspec": {
   "display_name": "Python (agentic-ai)",
   "language": "python",
   "name": "agentic-ai"
  },
  "language_info": {
   "codemirror_mode": {
    "name": "ipython",
    "version": 3
   },
   "file_extension": ".py",
   "mimetype": "text/x-python",
   "name": "python",
   "nbconvert_exporter": "python",
   "pygments_lexer": "ipython3",
   "version": "3.13.2"
  }
 },
 "nbformat": 4,
 "nbformat_minor": 5
}
